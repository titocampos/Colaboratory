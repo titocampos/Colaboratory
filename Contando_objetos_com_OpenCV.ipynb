{
  "nbformat": 4,
  "nbformat_minor": 0,
  "metadata": {
    "colab": {
      "name": "Contando objetos com OpenCV.ipynb",
      "provenance": [],
      "authorship_tag": "ABX9TyNmD/SkmqGnp7jZBQM4wuTO",
      "include_colab_link": true
    },
    "kernelspec": {
      "name": "python3",
      "display_name": "Python 3"
    }
  },
  "cells": [
    {
      "cell_type": "markdown",
      "metadata": {
        "id": "view-in-github",
        "colab_type": "text"
      },
      "source": [
        "<a href=\"https://colab.research.google.com/github/titocampos/Colaboratory/blob/master/Contando_objetos_com_OpenCV.ipynb\" target=\"_parent\"><img src=\"https://colab.research.google.com/assets/colab-badge.svg\" alt=\"Open In Colab\"/></a>"
      ]
    },
    {
      "cell_type": "markdown",
      "metadata": {
        "id": "Ye5ZrL9LHlbG",
        "colab_type": "text"
      },
      "source": [
        "Primeiro de tudo, vamos carregar nossas bibliotecas."
      ]
    },
    {
      "cell_type": "code",
      "metadata": {
        "id": "m9B3JloTHeGY",
        "colab_type": "code",
        "colab": {}
      },
      "source": [
        "import cv2\n",
        "import imutils\n",
        "import numpy as np\n",
        "import matplotlib.pyplot as plt"
      ],
      "execution_count": 1,
      "outputs": []
    }
  ]
}